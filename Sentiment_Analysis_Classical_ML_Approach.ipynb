{
  "nbformat": 4,
  "nbformat_minor": 0,
  "metadata": {
    "colab": {
      "provenance": [],
      "authorship_tag": "ABX9TyOOrhN/7j0+faElI48CLd9D",
      "include_colab_link": true
    },
    "kernelspec": {
      "name": "python3",
      "display_name": "Python 3"
    },
    "language_info": {
      "name": "python"
    }
  },
  "cells": [
    {
      "cell_type": "markdown",
      "metadata": {
        "id": "view-in-github",
        "colab_type": "text"
      },
      "source": [
        "<a href=\"https://colab.research.google.com/github/MarkoMilenovic01/Sentiment-Analysis---DL-Models-review/blob/main/Sentiment_Analysis_Classical_ML_Approach.ipynb\" target=\"_parent\"><img src=\"https://colab.research.google.com/assets/colab-badge.svg\" alt=\"Open In Colab\"/></a>"
      ]
    },
    {
      "cell_type": "markdown",
      "source": [
        "## 🧪 Experiment Summary: Classical ML with Enhanced Preprocessing\n",
        "\n",
        "### Dataset\n",
        "- **Source**: IMDB 50,000 Movie Reviews\n",
        "- **Split**: 80% training / 20% testing\n",
        "- **Task**: Binary Sentiment Classification (positive vs. negative)\n",
        "\n",
        "---\n",
        "\n",
        "### 🔄 Preprocessing (Enhanced)\n",
        "- **Contraction expansion** (e.g. \"don't\" → \"do not\")\n",
        "- **Emoticon mapping** (e.g. `:)` → \"smile\")\n",
        "- **Removal**: HTML, links, digits, special characters\n",
        "- **Negation tagging** (e.g. \"not good\" → \"not_good\")\n",
        "- **Lemmatization** (WordNet)\n",
        "- **Stopword removal**, with negation words (`no`, `not`, `never`) retained\n",
        "\n",
        "---\n",
        "\n",
        "### 🔧 TF-IDF Vectorization\n",
        "- `ngram_range=(1, 2)` → unigrams and bigrams\n",
        "- `min_df=2`, `max_df=0.9` → remove rare and very common terms\n",
        "- `sublinear_tf=True` → log-scaled term frequency\n",
        "\n",
        "---\n",
        "\n",
        "### 📊 Results\n",
        "\n",
        "#### Logistic Regression (`C=1.0`)\n",
        "- **Accuracy**: 91.09%\n",
        "- **Macro F1 Score**: 0.911\n",
        "\n",
        "**Confusion Matrix**:\n",
        " [[4513  487]\n",
        " [ 404 4596]]\n",
        "\n",
        "---\n",
        "\n",
        "#### Linear SVM (`C=1.0`)\n",
        "- **Accuracy**: **91.64%**\n",
        "- **Macro F1 Score**: **0.916**\n",
        "\n",
        "**Confusion Matrix**:\n",
        "[[4540 460]\n",
        "[ 376 4624]]\n",
        "\n",
        "\n",
        "---\n",
        "\n",
        "### 🧠 Conclusion\n",
        "\n",
        "Even with advanced preprocessing and no deep learning, **TF-IDF combined with linear classifiers performs exceptionally well** on IMDB sentiment analysis:\n",
        "\n",
        "- Linear SVM slightly outperforms Logistic Regression.\n",
        "- Classical models remain strong baselines — especially when enhanced with **semantic preprocessing** like lemmatization and negation handling.\n",
        "\n",
        "These results highlight that **clean, engineered features + robust linear models** can outperform more complex approaches on medium-sized datasets.\n"
      ],
      "metadata": {
        "id": "CYSW85gah1CL"
      }
    },
    {
      "cell_type": "markdown",
      "source": [
        "## Importing Libraries"
      ],
      "metadata": {
        "id": "tl9DaPO5Y0Y-"
      }
    },
    {
      "cell_type": "code",
      "source": [
        "import re, string\n",
        "import numpy as np\n",
        "import pandas as pd\n",
        "from sklearn.model_selection import train_test_split\n",
        "from sklearn.feature_extraction.text import TfidfVectorizer\n",
        "from sklearn.linear_model import LogisticRegression\n",
        "from sklearn.svm import LinearSVC\n",
        "from sklearn.metrics import accuracy_score, f1_score, classification_report, confusion_matrix"
      ],
      "metadata": {
        "id": "bWN0EumzYMPu"
      },
      "execution_count": null,
      "outputs": []
    },
    {
      "cell_type": "markdown",
      "source": [
        "## Importing Dataset and Preprocessing phase"
      ],
      "metadata": {
        "id": "NAYrYlEMY6RO"
      }
    },
    {
      "cell_type": "code",
      "source": [
        "dataset = pd.read_csv(\"IMDB Dataset.csv\")\n",
        "print(dataset.head())\n",
        "print(len(dataset))"
      ],
      "metadata": {
        "colab": {
          "base_uri": "https://localhost:8080/"
        },
        "id": "O5YWz8vhYQNE",
        "outputId": "d5c9aa9c-a106-47ad-a70a-0f61d319d91d"
      },
      "execution_count": null,
      "outputs": [
        {
          "output_type": "stream",
          "name": "stdout",
          "text": [
            "                                              review sentiment\n",
            "0  One of the other reviewers has mentioned that ...  positive\n",
            "1  A wonderful little production. <br /><br />The...  positive\n",
            "2  I thought this was a wonderful way to spend ti...  positive\n",
            "3  Basically there's a family where a little boy ...  negative\n",
            "4  Petter Mattei's \"Love in the Time of Money\" is...  positive\n",
            "50000\n"
          ]
        }
      ]
    },
    {
      "cell_type": "code",
      "source": [
        "!pip install contractions\n",
        "import nltk\n",
        "nltk.download('stopwords')\n",
        "nltk.download('wordnet')\n"
      ],
      "metadata": {
        "colab": {
          "base_uri": "https://localhost:8080/"
        },
        "id": "UXp9tCJPYiq9",
        "outputId": "3848e601-2e9d-4b96-8391-6ea6c281cdaf"
      },
      "execution_count": null,
      "outputs": [
        {
          "output_type": "stream",
          "name": "stdout",
          "text": [
            "Requirement already satisfied: contractions in /usr/local/lib/python3.11/dist-packages (0.1.73)\n",
            "Requirement already satisfied: textsearch>=0.0.21 in /usr/local/lib/python3.11/dist-packages (from contractions) (0.0.24)\n",
            "Requirement already satisfied: anyascii in /usr/local/lib/python3.11/dist-packages (from textsearch>=0.0.21->contractions) (0.3.2)\n",
            "Requirement already satisfied: pyahocorasick in /usr/local/lib/python3.11/dist-packages (from textsearch>=0.0.21->contractions) (2.1.0)\n"
          ]
        },
        {
          "output_type": "stream",
          "name": "stderr",
          "text": [
            "[nltk_data] Downloading package stopwords to /root/nltk_data...\n",
            "[nltk_data]   Package stopwords is already up-to-date!\n",
            "[nltk_data] Downloading package wordnet to /root/nltk_data...\n",
            "[nltk_data]   Package wordnet is already up-to-date!\n"
          ]
        },
        {
          "output_type": "execute_result",
          "data": {
            "text/plain": [
              "True"
            ]
          },
          "metadata": {},
          "execution_count": 18
        }
      ]
    },
    {
      "cell_type": "code",
      "execution_count": null,
      "metadata": {
        "id": "HwzLoCLHXnbS"
      },
      "outputs": [],
      "source": [
        "import re\n",
        "import contractions\n",
        "from nltk.stem import WordNetLemmatizer\n",
        "from nltk.corpus import stopwords\n",
        "\n",
        "lemmatizer = WordNetLemmatizer()\n",
        "STOP = set(stopwords.words('english')) - {\"no\", \"not\", \"never\", \"hardly\"}\n",
        "\n",
        "EMOTICON_MAP = {\n",
        "    \":)\": \" smile \",\n",
        "    \":-)\": \" smile \",\n",
        "    \":(\": \" sad \",\n",
        "    \":-(\": \" sad \",\n",
        "    \";)\": \" wink \",\n",
        "}\n",
        "\n",
        "def clean_text_enhanced(text: str) -> str:\n",
        "    text = contractions.fix(text)\n",
        "\n",
        "    for emo, tok in EMOTICON_MAP.items():\n",
        "        text = text.replace(emo, tok)\n",
        "\n",
        "    text = re.sub(r\"<.*?>|http\\S+|www\\.\\S+\", \" \", text)\n",
        "\n",
        "    text = re.sub(r\"\\b\\d+\\b\", \"[NUM]\", text)\n",
        "\n",
        "    text = re.sub(r\"[^A-Za-z0-9\\s!?.,]\", \" \", text)\n",
        "\n",
        "    text = re.sub(r\"([!?.,])\\1+\", r\"\\1\", text)\n",
        "\n",
        "    words = text.split()\n",
        "    for i, word in enumerate(words):\n",
        "        if word.lower() in [\"no\", \"not\", \"never\", \"hardly\"] and i + 1 < len(words):\n",
        "            words[i+1] = word.lower() + \"_\" + words[i+1]\n",
        "    text = \" \".join(words)\n",
        "\n",
        "    tokens = text.lower().split()\n",
        "    clean_tokens = []\n",
        "    for tok in tokens:\n",
        "        if tok not in STOP:\n",
        "            lemma = lemmatizer.lemmatize(tok)\n",
        "            clean_tokens.append(lemma)\n",
        "\n",
        "    return \" \".join(clean_tokens)\n",
        "\n",
        "\n",
        "dataset[\"cleaned_review\"] = dataset[\"review\"].apply(clean_text_enhanced)\n",
        "dataset[\"encoded_sentiment\"] = (dataset[\"sentiment\"] == \"positive\").astype(int)\n"
      ]
    },
    {
      "cell_type": "markdown",
      "source": [
        "## Train Test Split"
      ],
      "metadata": {
        "id": "6JOdLNrWZAzc"
      }
    },
    {
      "cell_type": "code",
      "source": [
        "X_train, X_test, y_train, y_test = train_test_split(\n",
        "    dataset[\"cleaned_review\"],\n",
        "    dataset[\"encoded_sentiment\"],\n",
        "    test_size=0.20,\n",
        "    random_state=42,\n",
        "    stratify=dataset[\"encoded_sentiment\"],\n",
        ")\n"
      ],
      "metadata": {
        "id": "ltMHbE76YrPs"
      },
      "execution_count": null,
      "outputs": []
    },
    {
      "cell_type": "markdown",
      "source": [
        "## TF-IDF Feature Extraction\n"
      ],
      "metadata": {
        "id": "PDHAP59CZSY8"
      }
    },
    {
      "cell_type": "code",
      "source": [
        "tfidf = TfidfVectorizer(\n",
        "    ngram_range=(1, 2),\n",
        "    min_df=2,\n",
        "    max_df=0.9,\n",
        "    sublinear_tf=True,\n",
        ")\n",
        "\n",
        "X_train_vec = tfidf.fit_transform(X_train)\n",
        "X_test_vec  = tfidf.transform(X_test)\n"
      ],
      "metadata": {
        "id": "KptO4KobYutO"
      },
      "execution_count": null,
      "outputs": []
    },
    {
      "cell_type": "markdown",
      "source": [
        "## Logistic Regression"
      ],
      "metadata": {
        "id": "0Mww2GERZUo7"
      }
    },
    {
      "cell_type": "code",
      "source": [
        "logreg = LogisticRegression(\n",
        "    C=1.0,\n",
        "    solver=\"liblinear\",\n",
        "    max_iter=1000,\n",
        "    class_weight=\"balanced\",\n",
        ")\n",
        "logreg.fit(X_train_vec, y_train)\n",
        "y_pred_lr = logreg.predict(X_test_vec)\n",
        "\n",
        "print(\"\\n=== Logistic Regression ===\")\n",
        "print(\"Accuracy :\", accuracy_score(y_test, y_pred_lr))\n",
        "print(\"Macro F1 :\", f1_score(y_test, y_pred_lr, average=\"macro\"))\n",
        "print(classification_report(y_test, y_pred_lr, digits=3))\n",
        "print(\"Confusion matrix:\\n\", confusion_matrix(y_test, y_pred_lr))\n"
      ],
      "metadata": {
        "id": "Jp4k5_StYw-E",
        "colab": {
          "base_uri": "https://localhost:8080/"
        },
        "outputId": "fec9a5e6-dc25-4395-f437-f805cf605275"
      },
      "execution_count": null,
      "outputs": [
        {
          "output_type": "stream",
          "name": "stdout",
          "text": [
            "\n",
            "=== Logistic Regression ===\n",
            "Accuracy : 0.9109\n",
            "Macro F1 : 0.9108938614781172\n",
            "              precision    recall  f1-score   support\n",
            "\n",
            "           0      0.918     0.903     0.910      5000\n",
            "           1      0.904     0.919     0.912      5000\n",
            "\n",
            "    accuracy                          0.911     10000\n",
            "   macro avg      0.911     0.911     0.911     10000\n",
            "weighted avg      0.911     0.911     0.911     10000\n",
            "\n",
            "Confusion matrix:\n",
            " [[4513  487]\n",
            " [ 404 4596]]\n"
          ]
        }
      ]
    },
    {
      "cell_type": "markdown",
      "source": [
        "## Support Vector Machine"
      ],
      "metadata": {
        "id": "Awqv-rJkZWDO"
      }
    },
    {
      "cell_type": "code",
      "source": [],
      "metadata": {
        "id": "M7Z8glBCYycm",
        "colab": {
          "base_uri": "https://localhost:8080/"
        },
        "outputId": "3c474239-f42c-429b-f3ce-03de098ec112"
      },
      "execution_count": null,
      "outputs": [
        {
          "output_type": "stream",
          "name": "stdout",
          "text": [
            "\n",
            "=== Linear SVM ===\n",
            "Accuracy : 0.9164\n",
            "Macro F1 : 0.9163941007677502\n",
            "              precision    recall  f1-score   support\n",
            "\n",
            "           0      0.924     0.908     0.916      5000\n",
            "           1      0.910     0.925     0.917      5000\n",
            "\n",
            "    accuracy                          0.916     10000\n",
            "   macro avg      0.917     0.916     0.916     10000\n",
            "weighted avg      0.917     0.916     0.916     10000\n",
            "\n",
            "Confusion matrix:\n",
            " [[4540  460]\n",
            " [ 376 4624]]\n"
          ]
        }
      ]
    }
  ]
}